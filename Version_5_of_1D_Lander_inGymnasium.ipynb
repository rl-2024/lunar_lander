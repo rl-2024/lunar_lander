{
  "cells": [
    {
      "cell_type": "code",
      "execution_count": null,
      "metadata": {
        "colab": {
          "base_uri": "https://localhost:8080/"
        },
        "id": "UoF6IcNyJeJE",
        "outputId": "b31ff40b-4081-4a2d-b84b-b1946864a685"
      },
      "outputs": [
        {
          "output_type": "stream",
          "name": "stdout",
          "text": [
            "Requirement already satisfied: gymnasium in /usr/local/lib/python3.10/dist-packages (0.29.1)\n",
            "Requirement already satisfied: numpy>=1.21.0 in /usr/local/lib/python3.10/dist-packages (from gymnasium) (1.23.5)\n",
            "Requirement already satisfied: cloudpickle>=1.2.0 in /usr/local/lib/python3.10/dist-packages (from gymnasium) (2.2.1)\n",
            "Requirement already satisfied: typing-extensions>=4.3.0 in /usr/local/lib/python3.10/dist-packages (from gymnasium) (4.9.0)\n",
            "Requirement already satisfied: farama-notifications>=0.0.1 in /usr/local/lib/python3.10/dist-packages (from gymnasium) (0.0.4)\n"
          ]
        }
      ],
      "source": [
        "!pip install gymnasium"
      ]
    },
    {
      "cell_type": "code",
      "execution_count": null,
      "metadata": {
        "id": "aDvL5s81R6BP"
      },
      "outputs": [],
      "source": []
    },
    {
      "cell_type": "code",
      "execution_count": null,
      "metadata": {
        "id": "cV83G21SJCc2",
        "colab": {
          "base_uri": "https://localhost:8080/"
        },
        "outputId": "5a1c251f-fa65-48c5-c811-323328ac1baf"
      },
      "outputs": [
        {
          "output_type": "stream",
          "name": "stdout",
          "text": [
            "pygame 2.5.2 (SDL 2.28.2, Python 3.10.12)\n",
            "Hello from the pygame community. https://www.pygame.org/contribute.html\n"
          ]
        }
      ],
      "source": [
        "import numpy as np\n",
        "import pygame\n",
        "import gymnasium as gym\n",
        "from gymnasium import Env\n",
        "import torch\n",
        "import torch.nn as nn\n",
        "from torch.nn import functional as F\n",
        "\n",
        "class One_Dimentional_Lander(Env):\n",
        "    START_FUEL = 5\n",
        "    THRUST = 2\n",
        "    AG = 1\n",
        "    FUEL_COST = 1\n",
        "    HEIGHT = 10 # elevation\n",
        "    # MAX_START_VY = 0.0\n",
        "    # MIN_START_VY = 0.0\n",
        "    # MAX_START_Y = 100.0\n",
        "    # MIN_START_Y = 10.0\n",
        "\n",
        "    def __init__(self, y=HEIGHT, vy=0, fuel=START_FUEL, thrust=THRUST, g=AG):\n",
        "        self.state = [y, vy, fuel] # elevation, velocity, fuel\n",
        "        self.thrust = thrust\n",
        "        self.ag = g\n",
        "\n",
        "    def compute_fire_state(self):\n",
        "        y = self.state[0] + self.state[1] + 0.5 * (self.thrust - self.ag) # integral\n",
        "        vy = self.state[1] + (self.thrust - self.ag)\n",
        "        fuel = self.state[2] - 1\n",
        "        return [y, vy, fuel]\n",
        "        # elevation ()\n",
        "        # speed - time * 1 = 0\n",
        "        # speed = 10\n",
        "        # need around 10\n",
        "        # elevation:\n",
        "\n",
        "    def compute_sink_state(self):\n",
        "        y = self.state[0] + self.state[1] + 0.5 * (0 - self.ag) # integral of velocity over time, time = 1, sqrt root\n",
        "        vy = self.state[1] + (0 - self.ag)\n",
        "        fuel = self.state[2]\n",
        "        return [y, vy, fuel]\n",
        "\n",
        "    def landed(self):\n",
        "        return self.state[0] <= 0\n",
        "\n",
        "    def compute_reward(self):\n",
        "        if not self.landed():\n",
        "            return 0.0\n",
        "        else:\n",
        "            return (self.state[2] * self.FUEL_COST) + self.state[1] ** 3 # (fuel * unit_cost) + velocity^3\n",
        "            # speed, if up, positive\n",
        "            # state has 3 elements, indicating elevation, speed, fuel\n",
        "\n",
        "    def out_of_fuel(self):\n",
        "        return self.state[2] <= 0\n",
        "\n",
        "    def step(self, action):\n",
        "        if self.out_of_fuel() or action == 0:\n",
        "            self.state = self.compute_sink_state()\n",
        "        else:\n",
        "            self.state = self.compute_fire_state()\n",
        "\n",
        "        done = self.landed()\n",
        "        reward = self.compute_reward()\n",
        "        return self.state, reward, done, {} # API\n",
        "\n",
        "    def render(self):\n",
        "        pass\n",
        "\n",
        "\n",
        "    def reset(self, h=-1, vy=-1, fuel=-1, seed=42):\n",
        "        # set the altitude, velocity, and fuel to random values within the specified ranges that are floats\n",
        "        super().reset(seed=seed)\n",
        "        np.random.seed(seed)\n",
        "        self.state[0] = 10 # elevation\n",
        "        self.state[1] = 0 # velocity\n",
        "        self.state[2] = 5 # fuel\n",
        "        # if h == -1:\n",
        "        #     self.state[0] = np.random.uniform(self.MIN_START_Y, self.MAX_START_Y)\n",
        "        # else:\n",
        "        #     self.state[0] = h\n",
        "        # if vy == -1:\n",
        "        #     self.state[1] = np.random.uniform(self.MIN_START_VY, self.MAX_START_VY)\n",
        "        # else:\n",
        "        #     self.state[1] = vy\n",
        "        # if fuel == -1:\n",
        "        #     self.state[2] = self.START_FUEL\n",
        "        # else:\n",
        "        #     self.state[2] = fuel\n",
        "        print(f'reset state to {self.state}')\n",
        "        return self.state, None\n",
        "\n",
        "  # def func():\n",
        "  #   # turn on engine only after speed is 10\n",
        "  #   elevation = 20\n",
        "  #   acceleration = (-2 + 1)"
      ]
    },
    {
      "cell_type": "code",
      "source": [
        "discount_factor = 0.9"
      ],
      "metadata": {
        "id": "Jb-ig5aF5Yhi"
      },
      "execution_count": null,
      "outputs": []
    },
    {
      "cell_type": "code",
      "source": [
        "# create a hash table\n",
        "# copy the state, run two actions with this state. Does it land? If not, call recursively.\n",
        "# discount and return\n",
        "# look at the table\n",
        "# before running, check the table.\n",
        "# we have 4 input states\n",
        "d = {}\n",
        "def create_hash_table(elevation, velocity, fuel, action):\n",
        "\n",
        "  key = (elevation, velocity, fuel, action)\n",
        "  if key in d:\n",
        "    return d[key]\n",
        "  # value_of_the_action\n",
        "  # fire\n",
        "  return 0\n"
      ],
      "metadata": {
        "id": "Q1gRSdTVt6eD"
      },
      "execution_count": null,
      "outputs": []
    },
    {
      "cell_type": "code",
      "source": [
        "# try both actions\n",
        "import copy\n",
        "display_cnt = 0\n",
        "\n",
        "def recursion(env):\n",
        "  global display_cnt\n",
        "  copied_env = copy.deepcopy(env)\n",
        "\n",
        "  next_state, reward_1, done, _ = env.step(1) # fire\n",
        "  if not done:\n",
        "    reward_1 = recursion(env) * discount_factor\n",
        "\n",
        "  next_state, reward_0, done, _ = copied_env.step(0) # not fire\n",
        "  if not done:\n",
        "    reward_0 = recursion(copied_env) * discount_factor\n",
        "\n",
        "  reward = max(reward_1, reward_0)\n",
        "  # if display_cnt <= 100:\n",
        "  #   display_cnt += 1\n",
        "    #print(f'env={env.state}, reward={reward}')\n",
        "  return reward"
      ],
      "metadata": {
        "id": "SCiBWNDpt66m"
      },
      "execution_count": null,
      "outputs": []
    },
    {
      "cell_type": "code",
      "source": [
        "# try both actions\n",
        "import copy\n",
        "display_cnt = 0\n",
        "\n",
        "# memo = {}\n",
        "\n",
        "def dp(env):\n",
        "  global display_cnt\n",
        "  copied_env = copy.deepcopy(env)\n",
        "  key_1 = tuple(env.state + [1])\n",
        "  if key_1 in memo:\n",
        "    reward_1 = memo[key_1]\n",
        "  else:\n",
        "    next_state, reward_1, done, _ = env.step(1) # fire\n",
        "    if not done:\n",
        "      reward_1 = dp(env) * discount_factor\n",
        "    memo[key_1] = reward_1\n",
        "\n",
        "  key_0 = tuple(copied_env.state + [0])\n",
        "  if key_0 in memo:\n",
        "    return memo[key_0]\n",
        "  else:\n",
        "    next_state, reward_0, done, _ = copied_env.step(0) # not fire\n",
        "    if not done:\n",
        "      reward_0 = dp(copied_env) * discount_factor\n",
        "    memo[key_0] = reward_0\n",
        "\n",
        "  reward = max(reward_1, reward_0)\n",
        "  # if display_cnt <= 100:\n",
        "  #   display_cnt += 1\n",
        "    #print(f'env={env.state}, reward={reward}')\n",
        "  return reward"
      ],
      "metadata": {
        "id": "4CPJ3V_3BVDL"
      },
      "execution_count": null,
      "outputs": []
    },
    {
      "cell_type": "code",
      "source": [
        "import time\n",
        "\n",
        "env = One_Dimentional_Lander()\n",
        "env.reset()\n",
        "for fuel in range(4, 5):\n",
        "  memo = {}\n",
        "  env.state = [10, 0, fuel]\n",
        "\n",
        "  start_time = time.time()\n",
        "  #recursion(env)\n",
        "  reward = dp(env)\n",
        "  end_time = time.time()\n",
        "  elapsed_time = end_time - start_time\n",
        "  print(f\"env={env.state}, reward={reward}, elapsed Time: {elapsed_time} seconds\")\n"
      ],
      "metadata": {
        "colab": {
          "base_uri": "https://localhost:8080/"
        },
        "id": "kUMEgZLdyNF2",
        "outputId": "4454e079-0db2-4374-99c9-e92eeaf47e99"
      },
      "execution_count": null,
      "outputs": [
        {
          "output_type": "stream",
          "name": "stdout",
          "text": [
            "reset state to [10, 0, 5]\n",
            "env=[-6.0, -8, 0], reward=0.0, elapsed Time: 0.5615384578704834 seconds\n"
          ]
        }
      ]
    },
    {
      "cell_type": "code",
      "source": [
        "memo = {}\n",
        "env = One_Dimentional_Lander()\n",
        "env.reset()\n",
        "reward = dp(env)"
      ],
      "metadata": {
        "colab": {
          "base_uri": "https://localhost:8080/"
        },
        "id": "t7kU6iOMKFe7",
        "outputId": "aed57e90-39ba-4996-d50f-6b76ce281b5e"
      },
      "execution_count": null,
      "outputs": [
        {
          "output_type": "stream",
          "name": "stdout",
          "text": [
            "reset state to [10, 0, 5]\n"
          ]
        }
      ]
    },
    {
      "cell_type": "code",
      "source": [
        "len(memo) # 420, 746, 1234 for fuel of 4, 5, 6\n"
      ],
      "metadata": {
        "colab": {
          "base_uri": "https://localhost:8080/"
        },
        "id": "5nyPT2PaHMTg",
        "outputId": "621555e9-4705-4d6b-a4ee-48b9ec772c11"
      },
      "execution_count": null,
      "outputs": [
        {
          "output_type": "execute_result",
          "data": {
            "text/plain": [
              "746"
            ]
          },
          "metadata": {},
          "execution_count": 9
        }
      ]
    },
    {
      "cell_type": "code",
      "source": [
        "class TableAgent:\n",
        "  def __init__(self, table, epsilon=0.05):\n",
        "      self.table = table\n",
        "      self.epsilon = epsilon # explore and exploit. playstart with a big epsilon (explore more)\n",
        "\n",
        "  def epsilon_greedy(self, state):\n",
        "    if np.random.rand() < self.epsilon: # whether to explore or exploit\n",
        "        return np.random.randint(0, 2) # output either 0 or 1\n",
        "    else:\n",
        "        return self.greedy(state)\n",
        "\n",
        "\n",
        "  def greedy(self, state):\n",
        "      q_value_0 = self.table[tuple(state + [0])] # 4 variables\n",
        "      q_value_1 = self.table[tuple(state + [1])]\n",
        "      return 0 if q_value_0 > q_value_1 else 1\n",
        "\n",
        "  def decay_epsilon(self):\n",
        "      self.epsilon *= 0.99\n",
        "      if self.epsilon < 0.005:\n",
        "        self.epsilon = 0.005\n",
        "\n",
        "\n"
      ],
      "metadata": {
        "id": "9p-2LHpPIgfw"
      },
      "execution_count": null,
      "outputs": []
    },
    {
      "cell_type": "code",
      "execution_count": null,
      "metadata": {
        "id": "Dzk65u0mpb9j"
      },
      "outputs": [],
      "source": [
        "# prompt: generate a neural network with an input layer of 3 nodes,\n",
        "# a hidden layer of 8 nodes, an output layer with 2 nodes without activation function using PyTorch\n",
        "# inputs: states\n",
        "# outputs: value of each action\n",
        "\n",
        "\n",
        "\n",
        "class LanderNetwork(nn.Module):\n",
        "    def __init__(self):\n",
        "      super().__init__()\n",
        "      self.linear1 = nn.Linear(4, 8) # 4 input variables: elevation, velocity, fuel, action\n",
        "      self.linear2 = nn.Linear(8, 1) # 1 output: value of the action given the state\n",
        "\n",
        "\n",
        "\n",
        "    def forward(self, x):\n",
        "      #x1 = torch.from_numpy(x)\n",
        "\n",
        "      #print(f'x={x}, x1={x1}')\n",
        "      x2 = F.relu(self.linear1(x))\n",
        "      y = self.linear2(x2)\n",
        "      return y\n"
      ]
    },
    {
      "cell_type": "code",
      "execution_count": null,
      "metadata": {
        "id": "jJbCcUHAsRym"
      },
      "outputs": [],
      "source": [
        "import matplotlib.pyplot as plt\n",
        "\n",
        "\n",
        "\n",
        "# Instantiating the model\n",
        "model = LanderNetwork()\n",
        "\n",
        "# Loss function and optimizer, mean squared error\n",
        "criterion = nn.MSELoss()\n",
        "#print('parameters', list(model.parameters()))\n",
        "optimizer = torch.optim.Adam(model.parameters(), lr=0.01)\n",
        "\n",
        "loss_history = []\n",
        "def train(x, y):\n",
        "    # decide the network architecture\n",
        "    # init weights and biases\n",
        "    # do forward propagation\n",
        "    # calculate loss\n",
        "    # back propagation\n",
        "    # continue till convergence\n",
        "\n",
        "    # zero the parameter gradients\n",
        "    optimizer.zero_grad()\n",
        "\n",
        "    # Forward pass\n",
        "    outputs = model(x)\n",
        "    loss = criterion(outputs, y)\n",
        "\n",
        "    # Backward and optimize\n",
        "    loss.backward()\n",
        "    optimizer.step()\n",
        "    return loss\n",
        "    #print(f'Loss: {loss.item():.4f}')\n",
        "\n",
        "\n",
        "# play\n",
        "# process experience\n",
        "# learn\n",
        "# eavalate\n",
        "#  decrease epsilon\n",
        "def evaluate(env, agent):\n",
        "  state, _ = env.reset(seed=42)\n",
        "  done = False\n",
        "  while not done:\n",
        "    action = agent.greedy(state)\n",
        "    next_state, reward, done, _ = env.step(action)\n",
        "    state = next_state\n",
        "  return reward\n",
        "\n",
        "def plot_one_game(env, agent):\n",
        "  state, _ = env.reset(seed=42)\n",
        "  done = False\n",
        "  altitude_log = []\n",
        "  while not done:\n",
        "    action = agent.greedy(state)\n",
        "    next_state, reward, done, _ = env.step(action)\n",
        "    state = next_state\n",
        "    altitude_log.append(state[0])\n",
        "\n",
        "  plt.plot(altitude_log)\n",
        "  plt.xlabel('Time Step')\n",
        "  plt.ylabel('Altitude')\n",
        "  plt.title('Altitude')\n",
        "  plt.show()\n",
        "  return reward\n",
        "\n",
        "def play(agent):\n",
        "  state, _ = env.reset(seed=42)\n",
        "  buffer = SingleGameReplayBuffer(0.9)\n",
        "\n",
        "  done = False\n",
        "  while not done:\n",
        "    action = agent.epsilon_greedy(state)\n",
        "    next_state, reward, done, _ = env.step(action)\n",
        "    buffer.logging(state, action, reward, next_state)\n",
        "    state = next_state\n",
        "  return buffer\n",
        "\n",
        "def reinforcement_learn(network, episodes, discount_factor, epsilon):\n",
        "  env = One_Dimentional_Lander()\n",
        "  agent = Agent(network, epsilon)\n",
        "  reward_history = []\n",
        "\n",
        "  for i in range(episodes):\n",
        "    plot_one_game(env, agent)\n",
        "    buffer = play(agent)\n",
        "\n",
        "    x, y = buffer.get()\n",
        "    #print('SHAPE', x.shape, y.shape)\n",
        "    x = torch.from_numpy(x)\n",
        "    y = torch.from_numpy(y)\n",
        "    loss = train(x, y)\n",
        "    loss = loss.detach().numpy()\n",
        "    loss_history.append(loss)\n",
        "\n",
        "    greedy_reward = evaluate(env, agent)\n",
        "    reward_history.append(greedy_reward)\n",
        "\n",
        "\n",
        "  plt.plot(loss_history)\n",
        "  plt.xlabel('Epoch')\n",
        "  plt.ylabel('Loss')\n",
        "  plt.title('Loss History')\n",
        "  plt.show()\n",
        "\n",
        "  # plt.plot(reward_history)\n",
        "  # plt.xlabel('Epoch')\n",
        "  # plt.ylabel('Reward')\n",
        "  # plt.title('Reward History')\n",
        "  # plt.show()"
      ]
    },
    {
      "cell_type": "code",
      "source": [
        "table_agent = TableAgent(memo)\n",
        "\n",
        "plot_one_game(env, table_agent)\n"
      ],
      "metadata": {
        "colab": {
          "base_uri": "https://localhost:8080/",
          "height": 507
        },
        "id": "lSsXCvm7J0r4",
        "outputId": "cf1f92a0-e58b-4c30-8067-75c81fcfa5bf"
      },
      "execution_count": null,
      "outputs": [
        {
          "output_type": "stream",
          "name": "stdout",
          "text": [
            "reset state to [10, 0, 5]\n"
          ]
        },
        {
          "output_type": "display_data",
          "data": {
            "text/plain": [
              "<Figure size 640x480 with 1 Axes>"
            ],
            "image/png": "[encoded data removed]"
          },
          "metadata": {}
        },
        {
          "output_type": "execute_result",
          "data": {
            "text/plain": [
              "1"
            ]
          },
          "metadata": {},
          "execution_count": 13
        }
      ]
    },
    {
      "cell_type": "code",
      "source": [
        "len(memo)"
      ],
      "metadata": {
        "colab": {
          "base_uri": "https://localhost:8080/"
        },
        "id": "CUN-DGoD762B",
        "outputId": "d9467324-050a-403b-d9a0-9dca6ee6a369"
      },
      "execution_count": null,
      "outputs": [
        {
          "output_type": "execute_result",
          "data": {
            "text/plain": [
              "746"
            ]
          },
          "metadata": {},
          "execution_count": 14
        }
      ]
    },
    {
      "cell_type": "code",
      "source": [
        "import numpy as np\n",
        "from sklearn.model_selection import train_test_split\n",
        "import torch\n",
        "\n",
        "def prepare_data(hash_table):\n",
        "  # Extract keys (tuples) and values (floats) from the hash table\n",
        "  keys = np.array(list(hash_table.keys()), dtype = 'float32')\n",
        "  values0 = np.array(list(hash_table.values()), dtype = 'float32')\n",
        "\n",
        "  # Reshape the array to have a single column\n",
        "  values = values0.reshape(-1, 1)\n",
        "\n",
        "  # Split the data into training and testing sets\n",
        "  X_train, X_test, y_train, y_test = train_test_split(keys, values, test_size=0.1, random_state=42)\n",
        "\n",
        "  # Now, split the training data into training (0%) and validation (30%) sets\n",
        "  X_train, X_val, y_train, y_val = train_test_split(X_train, y_train, test_size=0.1, random_state=42)\n",
        "\n",
        "  # convert the tuples into separate arrays\n",
        "  X_train = np.array(X_train.tolist(), dtype = 'float32')  # Convert tuples to arrays\n",
        "  X_val = np.array(X_val.tolist(), dtype = 'float32')\n",
        "  X_test = np.array(X_test.tolist(), dtype = 'float32')\n",
        "\n",
        "  # Now X_train and X_test are matrices, and y_train and y_test are vectors\n",
        "  print(\"X_train shape:\", X_train.shape)\n",
        "  print(\"X_val shape:\", X_val.shape)\n",
        "  print(\"X_test shape:\", X_test.shape)\n",
        "  print(\"y_train shape:\", y_train.shape)\n",
        "  print(\"y_val shape:\", y_val.shape)\n",
        "  print(\"y_test shape:\", y_test.shape)\n",
        "\n",
        "  # Convert numpy array to PyTorch tensor using torch.tensor()\n",
        "  X_train = torch.tensor(X_train)\n",
        "  X_val = torch.tensor(X_val)\n",
        "  X_test = torch.tensor(X_test)\n",
        "  y_train = torch.tensor(y_train)\n",
        "  y_val = torch.tensor(y_val)\n",
        "  y_test = torch.tensor(y_test)\n",
        "  return X_train, X_val, X_test, y_train, y_val, y_test\n",
        "\n",
        "X_train, X_val, X_test, y_train, y_val, y_test = prepare_data(memo)"
      ],
      "metadata": {
        "colab": {
          "base_uri": "https://localhost:8080/"
        },
        "id": "60Wd0AhDzkz2",
        "outputId": "27413d57-6b92-4ea3-b292-c6e8089c4362"
      },
      "execution_count": null,
      "outputs": [
        {
          "output_type": "stream",
          "name": "stdout",
          "text": [
            "X_train shape: (603, 4)\n",
            "X_val shape: (68, 4)\n",
            "X_test shape: (75, 4)\n",
            "y_train shape: (603, 1)\n",
            "y_val shape: (68, 1)\n",
            "y_test shape: (75, 1)\n"
          ]
        }
      ]
    },
    {
      "cell_type": "code",
      "source": [
        "def train_once(X_train, y_train):\n",
        "  model = LanderNetwork()\n",
        "  # Loss function and optimizer, mean squared error\n",
        "  criterion = nn.MSELoss()\n",
        "  #print('parameters', list(model.parameters()))\n",
        "  optimizer = torch.optim.Adam(model.parameters(), lr=0.01)\n",
        "\n",
        "  train(X_train, y_train)\n",
        "  return model\n",
        "\n",
        "\n",
        "model = train_once(X_train, y_train)"
      ],
      "metadata": {
        "id": "PZLdt0y112S8"
      },
      "execution_count": null,
      "outputs": []
    },
    {
      "cell_type": "code",
      "source": [
        "def train(x, y):\n",
        "    optimizer.zero_grad()\n",
        "\n",
        "    # Forward pass\n",
        "    outputs = model(x)\n",
        "    loss = criterion(outputs, y)\n",
        "\n",
        "    # Backward and optimize\n",
        "    loss.backward()\n",
        "    optimizer.step()\n",
        "    return loss\n",
        "\n",
        "\n",
        "def train_multi_times(episodes, X_train, y_train):\n",
        "  loss_history = []\n",
        "\n",
        "  model = LanderNetwork()\n",
        "\n",
        "  # Loss function and optimizer, mean squared error\n",
        "  criterion = nn.MSELoss()\n",
        "  #print('parameters', list(model.parameters()))\n",
        "  optimizer = torch.optim.Adam(model.parameters(), lr=0.01)\n",
        "\n",
        "  for i in range(episodes):\n",
        "    loss = train(X_train, y_train)\n",
        "    loss = loss.detach().numpy()\n",
        "    loss_history.append(loss)\n",
        "\n",
        "  plt.plot(loss_history)\n",
        "  plt.xlabel('Epoch')\n",
        "  plt.ylabel('Loss')\n",
        "  plt.title('Loss History')\n",
        "  plt.show()\n",
        "  return model\n",
        "model = train_multi_times(2000, X_train, y_train)"
      ],
      "metadata": {
        "colab": {
          "base_uri": "https://localhost:8080/",
          "height": 472
        },
        "id": "hKIDSaPACP3M",
        "outputId": "3eb8ef44-fe7e-46af-8a14-32b804e078e2"
      },
      "execution_count": null,
      "outputs": [
        {
          "output_type": "display_data",
          "data": {
            "text/plain": [
              "<Figure size 640x480 with 1 Axes>"
            ],
            "image/png": "[encoded data removed]"
          },
          "metadata": {}
        }
      ]
    },
    {
      "cell_type": "code",
      "source": [
        "\n",
        "episodes = 2000\n",
        "loss_history = []\n",
        "\n",
        "model = LanderNetwork()\n",
        "\n",
        "# Loss function and optimizer, mean squared error\n",
        "criterion = nn.MSELoss()\n",
        "#print('parameters', list(model.parameters()))\n",
        "optimizer = torch.optim.Adam(model.parameters(), lr=0.01)\n",
        "\n",
        "for i in range(episodes):\n",
        "  loss = train(X_train, y_train)\n",
        "  loss = loss.detach().numpy()\n",
        "  loss_history.append(loss)\n",
        "\n",
        "plt.plot(loss_history)\n",
        "plt.xlabel('Epoch')\n",
        "plt.ylabel('Loss')\n",
        "plt.title('Loss History')\n",
        "plt.show()\n"
      ],
      "metadata": {
        "colab": {
          "base_uri": "https://localhost:8080/",
          "height": 472
        },
        "id": "5T1zdsYNixjc",
        "outputId": "1e82d4f7-696d-424d-b75a-3ba099512413"
      },
      "execution_count": null,
      "outputs": [
        {
          "output_type": "display_data",
          "data": {
            "text/plain": [
              "<Figure size 640x480 with 1 Axes>"
            ],
            "image/png": "[encoded data removed]"
          },
          "metadata": {}
        }
      ]
    },
    {
      "cell_type": "code",
      "source": [
        "def get_recomm(memo):\n",
        "  firing_dict = {k: memo[k] for k in memo if k[3] == 1}\n",
        "  falling_dict = {k: memo[k] for k in memo if k[3] == 0}\n",
        "\n",
        "  # Sort the dictionary based on the first three elements of the keys\n",
        "  sorted_firing_dict = dict(sorted(firing_dict.items(), key=lambda item: item[0][:3]))\n",
        "  sorted_falling_dict = dict(sorted(falling_dict.items(), key=lambda item: item[0][:3]))\n",
        "  # Print the sorted dictionary\n",
        "  #print(sorted_falling_dict)\n",
        "\n",
        "  firing_values = np.array([value for value in sorted_firing_dict.values()])\n",
        "  falling_values = np.array([value for value in sorted_falling_dict.values()])\n",
        "  recomm = firing_values > falling_values\n",
        "  return recomm, sorted_firing_dict, sorted_falling_dict\n",
        "\n",
        "recomm, sorted_firing_dict, sorted_falling_dict = get_recomm(memo)\n",
        "recomm"
      ],
      "metadata": {
        "colab": {
          "base_uri": "https://localhost:8080/"
        },
        "id": "wxXZvVgRJhoX",
        "outputId": "84e9c3d2-d216-49ae-8de3-a7d6e73b4400"
      },
      "execution_count": null,
      "outputs": [
        {
          "output_type": "execute_result",
          "data": {
            "text/plain": [
              "array([False, False,  True, False,  True,  True, False,  True, False,\n",
              "       False,  True, False,  True,  True, False,  True, False,  True,\n",
              "        True,  True,  True,  True,  True,  True,  True, False,  True,\n",
              "        True,  True,  True,  True,  True, False, False, False,  True,\n",
              "       False,  True,  True, False,  True, False, False, False, False,\n",
              "        True,  True, False,  True,  True, False,  True, False,  True,\n",
              "        True,  True,  True,  True, False,  True,  True,  True,  True,\n",
              "        True, False, False, False,  True, False,  True,  True, False,\n",
              "        True, False, False, False,  True, False,  True, False, False,\n",
              "        True, False,  True,  True,  True,  True,  True, False, False,\n",
              "        True, False,  True,  True, False,  True, False, False, False,\n",
              "        True, False,  True,  True, False,  True,  True, False, False,\n",
              "       False, False,  True, False, False, False, False,  True, False,\n",
              "       False, False, False,  True, False, False, False, False,  True,\n",
              "       False, False, False, False, False, False, False, False, False,\n",
              "       False, False, False, False, False, False, False,  True, False,\n",
              "       False,  True, False, False, False, False, False, False,  True,\n",
              "        True, False,  True, False, False, False, False,  True,  True,\n",
              "       False, False, False, False, False, False, False, False, False,\n",
              "       False, False, False, False, False, False, False, False, False,\n",
              "       False, False, False, False, False, False, False, False, False,\n",
              "       False, False, False, False, False, False, False, False, False,\n",
              "       False, False, False, False, False, False, False, False, False,\n",
              "       False, False, False, False, False, False, False, False, False,\n",
              "       False, False, False, False, False, False, False, False, False,\n",
              "       False, False, False, False, False, False, False, False, False,\n",
              "       False, False, False, False, False, False, False, False, False,\n",
              "       False, False, False, False, False, False, False, False, False,\n",
              "       False, False, False, False, False, False, False, False, False,\n",
              "       False, False, False, False, False, False, False, False, False,\n",
              "       False, False, False, False, False, False, False, False, False,\n",
              "       False, False, False, False, False, False, False, False, False,\n",
              "       False, False, False, False, False, False, False, False, False,\n",
              "       False, False, False, False, False, False, False, False, False,\n",
              "       False, False, False, False, False, False, False, False, False,\n",
              "       False, False, False, False, False, False, False, False, False,\n",
              "       False, False, False, False, False, False, False, False, False,\n",
              "       False, False, False, False, False, False, False, False, False,\n",
              "       False, False, False, False, False, False, False, False, False,\n",
              "       False, False, False, False, False, False, False, False, False,\n",
              "       False, False, False, False, False, False, False, False, False,\n",
              "       False, False, False, False])"
            ]
          },
          "metadata": {},
          "execution_count": 19
        }
      ]
    },
    {
      "cell_type": "code",
      "source": [
        "def get_predicted_recomm(model, sorted_firing_dict, sorted_falling_dict):\n",
        "  # Extract keys and convert them into a NumPy array\n",
        "  X_firing = np.array([key for key in sorted_firing_dict.keys()], dtype='float32')\n",
        "  X_firing = torch.tensor(X_firing)\n",
        "\n",
        "  X_falling = np.array([key for key in sorted_falling_dict.keys()], dtype='float32')\n",
        "  X_falling = torch.tensor(X_falling)\n",
        "\n",
        "  predicted_y_firing = model(X_firing)\n",
        "  predicted_y_falling = model(X_falling)\n",
        "\n",
        "  predicted_recomm0 = predicted_y_firing > predicted_y_falling\n",
        "  predicted_recomm = predicted_recomm0.numpy().flatten()\n",
        "\n",
        "  pred_perf = predicted_recomm == recomm\n",
        "  correct = sum([1 if a==True else 0 for a in pred_perf])\n",
        "  print(correct, len(sorted_firing_dict))\n",
        "  return round(correct / len(sorted_firing_dict), 2)"
      ],
      "metadata": {
        "id": "AfhaZ8dYCJBj"
      },
      "execution_count": null,
      "outputs": []
    },
    {
      "cell_type": "code",
      "source": [
        "#model = train_multi_times(2000, X_train, y_train)\n",
        "get_predicted_recomm(model, sorted_firing_dict, sorted_falling_dict)\n",
        "\n"
      ],
      "metadata": {
        "colab": {
          "base_uri": "https://localhost:8080/"
        },
        "id": "amdiATjx9O_L",
        "outputId": "87bef480-4679-42fe-80cd-7c56469e0fc3"
      },
      "execution_count": null,
      "outputs": [
        {
          "output_type": "stream",
          "name": "stdout",
          "text": [
            "240 373\n"
          ]
        },
        {
          "output_type": "execute_result",
          "data": {
            "text/plain": [
              "0.64"
            ]
          },
          "metadata": {},
          "execution_count": 21
        }
      ]
    },
    {
      "cell_type": "code",
      "source": [
        "model = LanderNetwork()\n",
        "get_predicted_recomm(model, sorted_firing_dict, sorted_falling_dict)\n"
      ],
      "metadata": {
        "colab": {
          "base_uri": "https://localhost:8080/"
        },
        "id": "GZeWobnVn4tA",
        "outputId": "7b94af37-5a69-477d-96c3-55c391ed4b14"
      },
      "execution_count": null,
      "outputs": [
        {
          "output_type": "stream",
          "name": "stdout",
          "text": [
            "297 373\n"
          ]
        },
        {
          "output_type": "execute_result",
          "data": {
            "text/plain": [
              "0.8"
            ]
          },
          "metadata": {},
          "execution_count": 22
        }
      ]
    },
    {
      "cell_type": "code",
      "source": [
        "model = LanderNetwork()\n",
        "get_predicted_recomm(model, sorted_firing_dict, sorted_falling_dict)\n"
      ],
      "metadata": {
        "id": "L0ozuiOz9PKK",
        "colab": {
          "base_uri": "https://localhost:8080/"
        },
        "outputId": "e55cdb80-fa5d-4b0b-b0aa-d5131f9f0942"
      },
      "execution_count": null,
      "outputs": [
        {
          "output_type": "stream",
          "name": "stdout",
          "text": [
            "84 373\n"
          ]
        },
        {
          "output_type": "execute_result",
          "data": {
            "text/plain": [
              "0.23"
            ]
          },
          "metadata": {},
          "execution_count": 23
        }
      ]
    },
    {
      "cell_type": "code",
      "source": [
        "pause"
      ],
      "metadata": {
        "id": "77zhnF4QxiIh",
        "colab": {
          "base_uri": "https://localhost:8080/",
          "height": 176
        },
        "outputId": "9d332d90-0e20-47c5-ca95-3d18943350c7"
      },
      "execution_count": null,
      "outputs": [
        {
          "output_type": "error",
          "ename": "NameError",
          "evalue": "name 'pause' is not defined",
          "traceback": [
            "\u001b[0;31m---------------------------------------------------------------------------\u001b[0m",
            "\u001b[0;31mNameError\u001b[0m                                 Traceback (most recent call last)",
            "\u001b[0;32m<ipython-input-24-34d6930c0341>\u001b[0m in \u001b[0;36m<cell line: 1>\u001b[0;34m()\u001b[0m\n\u001b[0;32m----> 1\u001b[0;31m \u001b[0mpause\u001b[0m\u001b[0;34m\u001b[0m\u001b[0;34m\u001b[0m\u001b[0m\n\u001b[0m",
            "\u001b[0;31mNameError\u001b[0m: name 'pause' is not defined"
          ]
        }
      ]
    },
    {
      "cell_type": "code",
      "source": [
        "# 0.478 = (0.9)**n\n",
        "# log0.478 = n* log0.9\n",
        "# n = log0.478 / log0.9\n",
        "\n",
        "\n"
      ],
      "metadata": {
        "id": "ivhzALS1xNho"
      },
      "execution_count": null,
      "outputs": []
    },
    {
      "cell_type": "code",
      "source": [
        "# import math\n",
        "# math.log(0.478) / math.log(0.9)"
      ],
      "metadata": {
        "id": "eFVS-OLX_Sc3"
      },
      "execution_count": null,
      "outputs": []
    },
    {
      "cell_type": "code",
      "execution_count": null,
      "metadata": {
        "id": "AZkiKdTrSDg8"
      },
      "outputs": [],
      "source": [
        "env = One_Dimentional_Lander()\n",
        "\n",
        "# setting the seed value for reproducability\n",
        "seed = 100\n",
        "#env.seed(seed)\n",
        "#torch.manual_seed(seed)"
      ]
    },
    {
      "cell_type": "code",
      "execution_count": null,
      "metadata": {
        "id": "Vnv0FY7oyI4Y"
      },
      "outputs": [],
      "source": [
        "class SingleGameReplayBuffer:\n",
        "  def __init__(self, discount_factor=0.5):\n",
        "    self.discount_factor = discount_factor # landed with a speed of 0,  1) in 10 steps, bigger reward 2) in 100 steps, less reward\n",
        "    self.buffer = []\n",
        "\n",
        "  def logging(self, state, action, reward, next_state):\n",
        "    self.buffer.append((state, action, reward, next_state))\n",
        "\n",
        "  def get(self):\n",
        "    buffer_len = len(self.buffer)\n",
        "    x = np.zeros((buffer_len, 4), dtype = 'float32')\n",
        "    y = np.zeros((buffer_len, 1), dtype = 'float32')\n",
        "\n",
        "    last_state, last_action, last_reward, _ = self.buffer[buffer_len-1]\n",
        "    #print(\"last_state\", last_state)\n",
        "    #print(\"last_action\", last_action)\n",
        "    #print(\"last_reward\", last_reward)\n",
        "\n",
        "    y[buffer_len-1][0] = last_reward\n",
        "    x[buffer_len-1] = last_state + [last_action]\n",
        "\n",
        "    for i in reversed(range(buffer_len-1)):\n",
        "      current_state, current_action, current_reward, _ = self.buffer[i]\n",
        "      x[i] = current_state + [current_action]\n",
        "      y[i][0] = current_reward + (self.discount_factor * y[i+1])\n",
        "    #print(f'x={x}, y={y}')\n",
        "    return x, y\n",
        "\n",
        "\n",
        "  def done(self):\n",
        "    # state, reward, new_state, action\n",
        "    get_training_data()\n",
        "    return training_data\n",
        "\n",
        "\n"
      ]
    },
    {
      "cell_type": "code",
      "execution_count": null,
      "metadata": {
        "id": "u0xHWY9y01DD"
      },
      "outputs": [],
      "source": [
        "# replay_buffer = SingleGameReplayBuffer()\n",
        "# replay_buffer.logging([1, 2, 3], 1, 10.0, [2, 1, 3])\n",
        "# replay_buffer.logging([4, 2, 1], 0, 5.0, [9, 1, 2])\n",
        "# replay_buffer.logging([3, 1, 2], 1, 15.0, [0, 1, 2])\n",
        "# replay_buffer.logging([7, 2, 7], 0, 10.0, [2, 1, 5])\n",
        "\n",
        "# x, y = replay_buffer.get()\n",
        "# x, y"
      ]
    },
    {
      "cell_type": "code",
      "execution_count": null,
      "metadata": {
        "id": "g9m5idzcmoR0"
      },
      "outputs": [],
      "source": [
        "# input is elevation, velocity, fuel\n",
        "# output is value for each action starting from this state\n",
        "\n",
        "# input: 3 nodes:\n",
        "# output: 2 nodes:\n",
        "# 1) value of not firing the engine = 100\n",
        "# 2) value of firing the engine = 43\n"
      ]
    },
    {
      "cell_type": "code",
      "execution_count": null,
      "metadata": {
        "id": "pvPiAm0pqZEs"
      },
      "outputs": [],
      "source": [
        "# prompt: epsilon decay\n",
        "\n",
        "class Agent:\n",
        "  def __init__(self, network, epsilon=0.05):\n",
        "      self.network = network\n",
        "      self.epsilon = epsilon # explore and exploit. playstart with a big epsilon (explore more)\n",
        "\n",
        "  def epsilon_greedy(self, state):\n",
        "    if np.random.rand() < self.epsilon: # whether to explore or exploit\n",
        "        return np.random.randint(0, 2) # output either 0 or 1\n",
        "    else:\n",
        "        return self.greedy(state)\n",
        "\n",
        "\n",
        "  def greedy(self, state):\n",
        "      def list_to_tensor(state):\n",
        "        return torch.tensor(state, dtype=torch.float32)  # Specify the data type as float32\n",
        "\n",
        "      q_value_0 = self.network(list_to_tensor(state + [0])) # 4 variables\n",
        "      q_value_1 = self.network(list_to_tensor(state + [1]))\n",
        "      return 0 if q_value_0 > q_value_1 else 1\n",
        "\n",
        "  def decay_epsilon(self):\n",
        "      self.epsilon *= 0.99\n",
        "      if self.epsilon < 0.005:\n",
        "        self.epsilon = 0.005\n"
      ]
    },
    {
      "cell_type": "code",
      "source": [
        "\n"
      ],
      "metadata": {
        "id": "QENdLekEInhb"
      },
      "execution_count": null,
      "outputs": []
    },
    {
      "cell_type": "code",
      "source": [],
      "metadata": {
        "id": "6aQMJW5IJbwd"
      },
      "execution_count": null,
      "outputs": []
    },
    {
      "cell_type": "code",
      "execution_count": null,
      "metadata": {
        "id": "PfcmYJKmrtcN"
      },
      "outputs": [],
      "source": [
        "network = LanderNetwork()\n",
        "agent = Agent(network)"
      ]
    },
    {
      "cell_type": "code",
      "source": [
        "# Unit Test\n",
        "\n",
        "env = One_Dimentional_Lander()\n",
        "agent = Agent(LanderNetwork(), 0.01)\n",
        "\n",
        "\n",
        "plot_one_game(env, agent)\n"
      ],
      "metadata": {
        "id": "m4NtJ65_Jf-r"
      },
      "execution_count": null,
      "outputs": []
    },
    {
      "cell_type": "code",
      "source": [
        "episodes = 100\n",
        "reinforcement_learn(model, episodes, 0.9, 0.01)"
      ],
      "metadata": {
        "id": "BFHd_z7QJXQX"
      },
      "execution_count": null,
      "outputs": []
    },
    {
      "cell_type": "code",
      "execution_count": null,
      "metadata": {
        "id": "c7ykrvsiaWkl"
      },
      "outputs": [],
      "source": [
        "#input data and converting to torch tensors\n",
        "inputs = np.array([[73, 67, 43, 34],\n",
        "                   [91, 88, 64, 54],\n",
        "                   [87, 134, 58, 65],\n",
        "                   [102, 43, 37, 65],\n",
        "                   [69, 96, 70, 90]], dtype = 'float32')\n",
        "inputs = torch.from_numpy(inputs)\n",
        "\n",
        "\n",
        "#target data and converting to torch tensors\n",
        "targets = np.array([[366],[486],[558],[219],[470]], dtype = 'float32')\n",
        "targets = torch.from_numpy(targets)\n",
        "\n",
        "# option 1: make the logger responsible in filling\n",
        "# option 2: during the training, these ones are not available\n",
        "# option 3: scrap the network, take additional parameter, inputs are state and action, output is the value of that action\n",
        "\n",
        "# Instantiating the model\n",
        "model = LanderNetwork()\n",
        "\n",
        "# Loss function and optimizer, mean squared error\n",
        "criterion = nn.MSELoss()\n",
        "#print('parameters', list(model.parameters()))\n",
        "optimizer = torch.optim.Adam(model.parameters(), lr=0.01)\n",
        "\n",
        "train(inputs, targets)\n"
      ]
    },
    {
      "cell_type": "code",
      "source": [],
      "metadata": {
        "id": "9kmfa6qY5pGz"
      },
      "execution_count": null,
      "outputs": []
    },
    {
      "cell_type": "code",
      "execution_count": null,
      "metadata": {
        "id": "PGb4mJBvEwnz"
      },
      "outputs": [],
      "source": []
    },
    {
      "cell_type": "code",
      "execution_count": null,
      "metadata": {
        "id": "FrRzLfxyr6NN"
      },
      "outputs": [],
      "source": []
    },
    {
      "cell_type": "code",
      "execution_count": null,
      "metadata": {
        "id": "1QndyBHbJSq3"
      },
      "outputs": [],
      "source": [
        "import matplotlib.pyplot as plt\n",
        "envr = One_Dimentional_Lander()\n",
        "envr.reset(h= 100, vy= 0, fuel= 100)\n",
        "alt = []\n",
        "val = []\n",
        "full = []\n",
        "\n",
        "for i in range(400):\n",
        "    v = envr.state[1]\n",
        "    h = envr.state[0]\n",
        "    acceleration = v * v / (2 * h)\n",
        "    if acceleration >= 1:\n",
        "      envr.step(1)\n",
        "    else:\n",
        "      envr.step(0)\n",
        "\n",
        "\n",
        "    alt.append(envr.state[0])\n",
        "    val.append(envr.state[1])\n",
        "\n",
        "    full.append(envr.state[2])\n",
        "    if envr.landed():\n",
        "        break\n",
        "\n",
        "\n",
        "# PID controller: relatively stable speed"
      ]
    },
    {
      "cell_type": "code",
      "execution_count": null,
      "metadata": {
        "id": "k0NWHk4xJUT3"
      },
      "outputs": [],
      "source": [
        "# plot the altitude\n",
        "plt.plot(alt)\n",
        "plt.ylabel('Altitude')\n",
        "plt.xlabel('Time')\n",
        "plt.show()"
      ]
    },
    {
      "cell_type": "code",
      "execution_count": null,
      "metadata": {
        "id": "hSZ9JZimJU_g"
      },
      "outputs": [],
      "source": [
        "# plot the velocity\n",
        "plt.plot(val)\n",
        "plt.ylabel('Velocity')\n",
        "plt.xlabel('Time')\n",
        "plt.show()"
      ]
    },
    {
      "cell_type": "code",
      "execution_count": null,
      "metadata": {
        "id": "SWPXTd2Ajf_A"
      },
      "outputs": [],
      "source": []
    }
  ],
  "metadata": {
    "colab": {
      "provenance": []
    },
    "kernelspec": {
      "display_name": "Python 3",
      "name": "python3"
    },
    "language_info": {
      "name": "python"
    }
  },
  "nbformat": 4,
  "nbformat_minor": 0
}